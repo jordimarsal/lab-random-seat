{
 "cells": [
  {
   "cell_type": "code",
   "execution_count": 1,
   "metadata": {},
   "outputs": [
    {
     "name": "stdout",
     "output_type": "stream",
     "text": [
      "1          \t2\n",
      "Myrto     \tJorge\n",
      "3          \t4\n",
      "Hernando  \tPaula\n",
      "5          \t6\n",
      "Jordi     \tMartin\n",
      "7          \t8\n",
      "Marc      \tAnnabelle\n",
      "9          \t10\n",
      "Laura     \tPeter\n",
      "11          \t12\n",
      "Dani      \tGustavo\n"
     ]
    }
   ],
   "source": [
    "import random\n",
    "import numpy as np\n",
    "\n",
    "def print2c(alist):\n",
    "    if len(alist) % 2 != 0:\n",
    "        alist.append(\"\\t \")\n",
    "    col1,col2 = np.array_split(alist,2)\n",
    "    maxlen = 10\n",
    "    a=''\n",
    "    e=1\n",
    "    for i,j in zip(col1, col2):\n",
    "        print(f'{e}{a.ljust(maxlen, \" \")}\\t{e+1}')\n",
    "        print (\"%s\\t%s\" % (i.ljust(maxlen, \" \"), j))\n",
    "        e+=2\n",
    "\n",
    "li = ['Annabelle', 'Dani', 'Gustavo', 'Hernando', 'Jordi', 'Jorge', 'Laura', 'Marc', 'Martin', 'Paula', 'Peter']\n",
    "\n",
    "samples = random.sample(li,11)\n",
    "samples.insert(0,'Myrto')\n",
    "\n",
    "print2c(samples)"
   ]
  },
  {
   "cell_type": "code",
   "execution_count": null,
   "metadata": {},
   "outputs": [],
   "source": []
  }
 ],
 "metadata": {
  "kernelspec": {
   "display_name": "Python 3",
   "language": "python",
   "name": "python3"
  },
  "language_info": {
   "codemirror_mode": {
    "name": "ipython",
    "version": 3
   },
   "file_extension": ".py",
   "mimetype": "text/x-python",
   "name": "python",
   "nbconvert_exporter": "python",
   "pygments_lexer": "ipython3",
   "version": "3.6.8"
  }
 },
 "nbformat": 4,
 "nbformat_minor": 2
}
